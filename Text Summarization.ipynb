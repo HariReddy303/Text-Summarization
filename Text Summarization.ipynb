{
 "cells": [
  {
   "cell_type": "code",
   "execution_count": 70,
   "metadata": {},
   "outputs": [
    {
     "name": "stdout",
     "output_type": "stream",
     "text": [
      "\"\"There are various sports and games which are played at both national and international level such as basket ball, football, tennis, cricket, volleyball, hockey, squash, badminton, table tennis, kabaddi, Polo and so many. Though, some of the sports and games are played in many countries however they are unique, particular and famous especially for one country such as kabaddi, chess, and snooker were originated in India and played with much interest. Other famous games in India are badminton, hockey, football, etc. Cricket is also played by the players at national and international level with much interest but it does not have its origin in India. All the sports and games play an important role in the physical and mental development of the children.\n"
     ]
    }
   ],
   "source": [
    "text=\"\"\"\"\"There are various sports and games which are played at both national and international level such as basket ball, football, tennis, cricket, volleyball, hockey, squash, badminton, table tennis, kabaddi, Polo and so many. Though, some of the sports and games are played in many countries however they are unique, particular and famous especially for one country such as kabaddi, chess, and snooker were originated in India and played with much interest. Other famous games in India are badminton, hockey, football, etc. Cricket is also played by the players at national and international level with much interest but it does not have its origin in India. All the sports and games play an important role in the physical and mental development of the children.\"\"\"\n",
    "print(text)"
   ]
  },
  {
   "cell_type": "code",
   "execution_count": null,
   "metadata": {},
   "outputs": [],
   "source": []
  },
  {
   "cell_type": "code",
   "execution_count": 2,
   "metadata": {},
   "outputs": [
    {
     "data": {
      "text/plain": [
       "759"
      ]
     },
     "execution_count": 2,
     "metadata": {},
     "output_type": "execute_result"
    }
   ],
   "source": [
    "len(text)"
   ]
  },
  {
   "cell_type": "code",
   "execution_count": 9,
   "metadata": {},
   "outputs": [],
   "source": [
    "import spacy\n",
    "from spacy.lang.en.stop_words import STOP_WORDS\n",
    "from string import punctuation"
   ]
  },
  {
   "cell_type": "code",
   "execution_count": 15,
   "metadata": {},
   "outputs": [
    {
     "data": {
      "text/plain": [
       "['me',\n",
       " 'seeming',\n",
       " 'who',\n",
       " 'not',\n",
       " 'where',\n",
       " 'above',\n",
       " 'thus',\n",
       " 'used',\n",
       " 'except',\n",
       " 'ours',\n",
       " 'we',\n",
       " 'before',\n",
       " 'neither',\n",
       " 'whence',\n",
       " 'have',\n",
       " 'another',\n",
       " 'bottom',\n",
       " 'less',\n",
       " 'see',\n",
       " 'any',\n",
       " 'anywhere',\n",
       " 'whom',\n",
       " 'he',\n",
       " 'up',\n",
       " 'against',\n",
       " 'whether',\n",
       " 'whose',\n",
       " 'together',\n",
       " 'always',\n",
       " 'may',\n",
       " 'fifty',\n",
       " 'using',\n",
       " 'hereafter',\n",
       " 'become',\n",
       " 'every',\n",
       " 'noone',\n",
       " 'ten',\n",
       " 'were',\n",
       " 'indeed',\n",
       " 'quite',\n",
       " 'when',\n",
       " 'has',\n",
       " 'then',\n",
       " '’ll',\n",
       " 'had',\n",
       " 'his',\n",
       " '’re',\n",
       " 'no',\n",
       " 'their',\n",
       " 'thru',\n",
       " 'and',\n",
       " 'something',\n",
       " 'meanwhile',\n",
       " 're',\n",
       " 'few',\n",
       " 'hereupon',\n",
       " 'twelve',\n",
       " 'besides',\n",
       " 'such',\n",
       " 'regarding',\n",
       " 'four',\n",
       " 'off',\n",
       " 'towards',\n",
       " 'sixty',\n",
       " 'call',\n",
       " 'much',\n",
       " 'himself',\n",
       " 'take',\n",
       " 'about',\n",
       " 'does',\n",
       " 'otherwise',\n",
       " 'per',\n",
       " 'n’t',\n",
       " 'namely',\n",
       " 'our',\n",
       " 'now',\n",
       " 'both',\n",
       " 'some',\n",
       " 'thereby',\n",
       " 'this',\n",
       " \"'d\",\n",
       " 'can',\n",
       " 'mostly',\n",
       " 'yet',\n",
       " 'whither',\n",
       " \"'re\",\n",
       " 'others',\n",
       " 'well',\n",
       " 'alone',\n",
       " 'yourself',\n",
       " 'are',\n",
       " \"'ll\",\n",
       " 'its',\n",
       " 'also',\n",
       " 'keep',\n",
       " 'eleven',\n",
       " 'an',\n",
       " 'hence',\n",
       " 'else',\n",
       " 'either',\n",
       " 'because',\n",
       " 'wherever',\n",
       " 'ca',\n",
       " 'a',\n",
       " 'should',\n",
       " 'part',\n",
       " 'afterwards',\n",
       " 'hereby',\n",
       " 'from',\n",
       " 'moreover',\n",
       " 'than',\n",
       " 'themselves',\n",
       " 'whereafter',\n",
       " 'more',\n",
       " 'into',\n",
       " '’s',\n",
       " 'anything',\n",
       " 'five',\n",
       " 'throughout',\n",
       " 'within',\n",
       " 'nobody',\n",
       " 'various',\n",
       " 'i',\n",
       " 'while',\n",
       " 'thereafter',\n",
       " 'here',\n",
       " 'as',\n",
       " 'last',\n",
       " 'perhaps',\n",
       " '‘s',\n",
       " 'until',\n",
       " 'please',\n",
       " 'whereby',\n",
       " 'everyone',\n",
       " 'next',\n",
       " 'wherein',\n",
       " 'therefore',\n",
       " 'whenever',\n",
       " 'latter',\n",
       " 'to',\n",
       " 'nothing',\n",
       " 'on',\n",
       " 'sometimes',\n",
       " 'so',\n",
       " 'many',\n",
       " 'be',\n",
       " 'almost',\n",
       " 'once',\n",
       " 'cannot',\n",
       " 'enough',\n",
       " 'still',\n",
       " 'done',\n",
       " 'herein',\n",
       " 'fifteen',\n",
       " 'get',\n",
       " 'put',\n",
       " 'whereupon',\n",
       " \"'ve\",\n",
       " 'give',\n",
       " 'go',\n",
       " 'very',\n",
       " 'what',\n",
       " 'was',\n",
       " \"'m\",\n",
       " 'which',\n",
       " '‘re',\n",
       " 'beyond',\n",
       " 'doing',\n",
       " 'been',\n",
       " 'whole',\n",
       " 'seems',\n",
       " 'move',\n",
       " 'nevertheless',\n",
       " 'whatever',\n",
       " 'behind',\n",
       " '’d',\n",
       " 'beside',\n",
       " 'after',\n",
       " 'the',\n",
       " 'none',\n",
       " 'each',\n",
       " 'formerly',\n",
       " 'several',\n",
       " 'anyone',\n",
       " '‘ll',\n",
       " 'former',\n",
       " 'ever',\n",
       " 'everywhere',\n",
       " 'along',\n",
       " 'all',\n",
       " 'seem',\n",
       " 'though',\n",
       " 'never',\n",
       " 'must',\n",
       " 'becoming',\n",
       " 'could',\n",
       " 'through',\n",
       " 'eight',\n",
       " 'these',\n",
       " 'n‘t',\n",
       " 'those',\n",
       " 'itself',\n",
       " 'my',\n",
       " '‘m',\n",
       " 'only',\n",
       " 'already',\n",
       " 'do',\n",
       " 'everything',\n",
       " 'latterly',\n",
       " 'across',\n",
       " 'with',\n",
       " 'side',\n",
       " '‘d',\n",
       " 'third',\n",
       " 'being',\n",
       " 'how',\n",
       " 'one',\n",
       " 'first',\n",
       " 'due',\n",
       " 'during',\n",
       " 'herself',\n",
       " 'if',\n",
       " 'there',\n",
       " 'it',\n",
       " 'someone',\n",
       " 'why',\n",
       " 'of',\n",
       " 'thereupon',\n",
       " 'empty',\n",
       " 'nine',\n",
       " 'however',\n",
       " 'ourselves',\n",
       " 'might',\n",
       " 'amount',\n",
       " 'top',\n",
       " 'yourselves',\n",
       " 'whereas',\n",
       " 'least',\n",
       " 'us',\n",
       " 'they',\n",
       " 'at',\n",
       " 'just',\n",
       " 'back',\n",
       " 'further',\n",
       " 'will',\n",
       " 'nor',\n",
       " 'sometime',\n",
       " 'below',\n",
       " 'down',\n",
       " 'anyway',\n",
       " 'often',\n",
       " 'onto',\n",
       " 'or',\n",
       " 'mine',\n",
       " 'unless',\n",
       " 'elsewhere',\n",
       " 'name',\n",
       " 'over',\n",
       " 'around',\n",
       " 'but',\n",
       " 'she',\n",
       " 'becomes',\n",
       " 'full',\n",
       " 'rather',\n",
       " 'front',\n",
       " 'among',\n",
       " 'six',\n",
       " 'most',\n",
       " 'became',\n",
       " 'for',\n",
       " 'yours',\n",
       " 'out',\n",
       " 'her',\n",
       " 'by',\n",
       " 'did',\n",
       " 'is',\n",
       " 'whoever',\n",
       " 'upon',\n",
       " 'in',\n",
       " 'would',\n",
       " 'amongst',\n",
       " 'your',\n",
       " 'between',\n",
       " 'without',\n",
       " 'make',\n",
       " 'beforehand',\n",
       " 'too',\n",
       " 'other',\n",
       " \"'s\",\n",
       " 'via',\n",
       " 'somehow',\n",
       " 'say',\n",
       " 'own',\n",
       " 'again',\n",
       " 'twenty',\n",
       " '‘ve',\n",
       " 'although',\n",
       " 'three',\n",
       " 'even',\n",
       " 'hundred',\n",
       " 'nowhere',\n",
       " 'really',\n",
       " 'that',\n",
       " \"n't\",\n",
       " 'myself',\n",
       " 'you',\n",
       " 'seemed',\n",
       " 'since',\n",
       " '’ve',\n",
       " 'forty',\n",
       " 'thence',\n",
       " 'made',\n",
       " 'show',\n",
       " 'them',\n",
       " '’m',\n",
       " 'two',\n",
       " 'him',\n",
       " 'serious',\n",
       " 'am',\n",
       " 'under',\n",
       " 'same',\n",
       " 'hers',\n",
       " 'somewhere',\n",
       " 'anyhow',\n",
       " 'toward',\n",
       " 'therein']"
      ]
     },
     "execution_count": 15,
     "metadata": {},
     "output_type": "execute_result"
    }
   ],
   "source": [
    "stopwords=list(STOP_WORDS)\n",
    "stopwords"
   ]
  },
  {
   "cell_type": "code",
   "execution_count": 19,
   "metadata": {},
   "outputs": [
    {
     "data": {
      "text/plain": [
       "'!\"#$%&\\'()*+,-./:;<=>?@[\\\\]^_`{|}~'"
      ]
     },
     "execution_count": 19,
     "metadata": {},
     "output_type": "execute_result"
    }
   ],
   "source": [
    "punctuation"
   ]
  },
  {
   "cell_type": "code",
   "execution_count": 11,
   "metadata": {},
   "outputs": [],
   "source": [
    "nlp=spacy.load(\"en_core_web_sm\")\n"
   ]
  },
  {
   "cell_type": "code",
   "execution_count": 12,
   "metadata": {},
   "outputs": [],
   "source": [
    "doc=nlp(text)"
   ]
  },
  {
   "cell_type": "code",
   "execution_count": 16,
   "metadata": {},
   "outputs": [],
   "source": [
    "tokens=[token.text for token in doc]"
   ]
  },
  {
   "cell_type": "code",
   "execution_count": 17,
   "metadata": {},
   "outputs": [
    {
     "name": "stdout",
     "output_type": "stream",
     "text": [
      "['\"', '\"', 'There', 'are', 'various', 'sports', 'and', 'games', 'which', 'are', 'played', 'at', 'both', 'national', 'and', 'international', 'level', 'such', 'as', 'basket', 'ball', ',', 'football', ',', 'tennis', ',', 'cricket', ',', 'volleyball', ',', 'hockey', ',', 'squash', ',', 'badminton', ',', 'table', 'tennis', ',', 'kabaddi', ',', 'Polo', 'and', 'so', 'many', '.', 'Though', ',', 'some', 'of', 'the', 'sports', 'and', 'games', 'are', 'played', 'in', 'many', 'countries', 'however', 'they', 'are', 'unique', ',', 'particular', 'and', 'famous', 'especially', 'for', 'one', 'country', 'such', 'as', 'kabaddi', ',', 'chess', ',', 'and', 'snooker', 'were', 'originated', 'in', 'India', 'and', 'played', 'with', 'much', 'interest', '.', 'Other', 'famous', 'games', 'in', 'India', 'are', 'badminton', ',', 'hockey', ',', 'football', ',', 'etc', '.', 'Cricket', 'is', 'also', 'played', 'by', 'the', 'players', 'at', 'national', 'and', 'international', 'level', 'with', 'much', 'interest', 'but', 'it', 'does', 'not', 'have', 'its', 'origin', 'in', 'India', '.', 'All', 'the', 'sports', 'and', 'games', 'play', 'an', 'important', 'role', 'in', 'the', 'physical', 'and', 'mental', 'development', 'of', 'the', 'children', '.']\n"
     ]
    }
   ],
   "source": [
    "print(tokens)"
   ]
  },
  {
   "cell_type": "code",
   "execution_count": 26,
   "metadata": {},
   "outputs": [],
   "source": [
    "word_frequencies={}\n",
    "for word in doc:\n",
    "     if word.text.lower() not in stopwords:\n",
    "        if word.text.lower() not in punctuation:\n",
    "            if word.text not in word_frequencies.keys():\n",
    "                word_frequencies[word.text]=1\n",
    "            else:\n",
    "                word_frequencies[word.text]+=1"
   ]
  },
  {
   "cell_type": "code",
   "execution_count": 29,
   "metadata": {},
   "outputs": [
    {
     "data": {
      "text/plain": [
       "{'sports': 3,\n",
       " 'games': 4,\n",
       " 'played': 4,\n",
       " 'national': 2,\n",
       " 'international': 2,\n",
       " 'level': 2,\n",
       " 'basket': 1,\n",
       " 'ball': 1,\n",
       " 'football': 2,\n",
       " 'tennis': 2,\n",
       " 'cricket': 1,\n",
       " 'volleyball': 1,\n",
       " 'hockey': 2,\n",
       " 'squash': 1,\n",
       " 'badminton': 2,\n",
       " 'table': 1,\n",
       " 'kabaddi': 2,\n",
       " 'Polo': 1,\n",
       " 'countries': 1,\n",
       " 'unique': 1,\n",
       " 'particular': 1,\n",
       " 'famous': 2,\n",
       " 'especially': 1,\n",
       " 'country': 1,\n",
       " 'chess': 1,\n",
       " 'snooker': 1,\n",
       " 'originated': 1,\n",
       " 'India': 3,\n",
       " 'interest': 2,\n",
       " 'etc': 1,\n",
       " 'Cricket': 1,\n",
       " 'players': 1,\n",
       " 'origin': 1,\n",
       " 'play': 1,\n",
       " 'important': 1,\n",
       " 'role': 1,\n",
       " 'physical': 1,\n",
       " 'mental': 1,\n",
       " 'development': 1,\n",
       " 'children': 1}"
      ]
     },
     "execution_count": 29,
     "metadata": {},
     "output_type": "execute_result"
    }
   ],
   "source": [
    "word_frequencies"
   ]
  },
  {
   "cell_type": "code",
   "execution_count": 30,
   "metadata": {},
   "outputs": [
    {
     "data": {
      "text/plain": [
       "4"
      ]
     },
     "execution_count": 30,
     "metadata": {},
     "output_type": "execute_result"
    }
   ],
   "source": [
    "max_frequency=max(word_frequencies.values())\n",
    "max_frequency"
   ]
  },
  {
   "cell_type": "code",
   "execution_count": 33,
   "metadata": {},
   "outputs": [
    {
     "data": {
      "text/plain": [
       "{'sports': 0.046875,\n",
       " 'games': 0.0625,\n",
       " 'played': 0.0625,\n",
       " 'national': 0.03125,\n",
       " 'international': 0.03125,\n",
       " 'level': 0.03125,\n",
       " 'basket': 0.015625,\n",
       " 'ball': 0.015625,\n",
       " 'football': 0.03125,\n",
       " 'tennis': 0.03125,\n",
       " 'cricket': 0.015625,\n",
       " 'volleyball': 0.015625,\n",
       " 'hockey': 0.03125,\n",
       " 'squash': 0.015625,\n",
       " 'badminton': 0.03125,\n",
       " 'table': 0.015625,\n",
       " 'kabaddi': 0.03125,\n",
       " 'Polo': 0.015625,\n",
       " 'countries': 0.015625,\n",
       " 'unique': 0.015625,\n",
       " 'particular': 0.015625,\n",
       " 'famous': 0.03125,\n",
       " 'especially': 0.015625,\n",
       " 'country': 0.015625,\n",
       " 'chess': 0.015625,\n",
       " 'snooker': 0.015625,\n",
       " 'originated': 0.015625,\n",
       " 'India': 0.046875,\n",
       " 'interest': 0.03125,\n",
       " 'etc': 0.015625,\n",
       " 'Cricket': 0.015625,\n",
       " 'players': 0.015625,\n",
       " 'origin': 0.015625,\n",
       " 'play': 0.015625,\n",
       " 'important': 0.015625,\n",
       " 'role': 0.015625,\n",
       " 'physical': 0.015625,\n",
       " 'mental': 0.015625,\n",
       " 'development': 0.015625,\n",
       " 'children': 0.015625}"
      ]
     },
     "execution_count": 33,
     "metadata": {},
     "output_type": "execute_result"
    }
   ],
   "source": [
    "for word in word_frequencies.keys():\n",
    "     word_frequencies[word]=word_frequencies[word]/max_frequency\n",
    "word_frequencies"
   ]
  },
  {
   "cell_type": "code",
   "execution_count": 72,
   "metadata": {},
   "outputs": [
    {
     "name": "stdout",
     "output_type": "stream",
     "text": [
      "[\"\"There are various sports and games which are played at both national and international level such as basket ball, football, tennis, cricket, volleyball, hockey, squash, badminton, table tennis, kabaddi, Polo and so many., Though, some of the sports and games are played in many countries however they are unique, particular and famous especially for one country such as kabaddi, chess, and snooker were originated in India and played with much interest., Other famous games in India are badminton, hockey, football, etc., Cricket is also played by the players at national and international level with much interest, but it does not have its origin in India., All the sports and games play an important role in the physical and mental development of the children.]\n"
     ]
    }
   ],
   "source": [
    "sentence_tokens=[sent for sent in doc.sents]\n",
    "print(sentence_tokens)"
   ]
  },
  {
   "cell_type": "code",
   "execution_count": 38,
   "metadata": {},
   "outputs": [],
   "source": [
    "sentence_scores={}\n",
    "for sent in sentence_tokens:\n",
    "    for word in sent:\n",
    "        if word.text.lower()in word_frequencies.keys():\n",
    "            if sent not in sentence_scores.keys():\n",
    "                sentence_scores[sent]=word_frequencies[word.text.lower()]\n",
    "            else:\n",
    "                sentence_scores[sent]+=word_frequencies[word.text.lower()]"
   ]
  },
  {
   "cell_type": "code",
   "execution_count": 39,
   "metadata": {},
   "outputs": [
    {
     "data": {
      "text/plain": [
       "{\"\"There are various sports and games which are played at both national and international level such as basket ball, football, tennis, cricket, volleyball, hockey, squash, badminton, table tennis, kabaddi, Polo and so many.: 0.546875,\n",
       " Though, some of the sports and games are played in many countries however they are unique, particular and famous especially for one country such as kabaddi, chess, and snooker were originated in India and played with much interest.: 0.453125,\n",
       " Other famous games in India are badminton, hockey, football, etc.: 0.203125,\n",
       " Cricket is also played by the players at national and international level with much interest: 0.21875,\n",
       " but it does not have its origin in India.: 0.015625,\n",
       " All the sports and games play an important role in the physical and mental development of the children.: 0.21875}"
      ]
     },
     "execution_count": 39,
     "metadata": {},
     "output_type": "execute_result"
    }
   ],
   "source": [
    "sentence_scores"
   ]
  },
  {
   "cell_type": "code",
   "execution_count": 73,
   "metadata": {},
   "outputs": [
    {
     "data": {
      "text/plain": [
       "6"
      ]
     },
     "execution_count": 73,
     "metadata": {},
     "output_type": "execute_result"
    }
   ],
   "source": [
    "len(sentence_scores)"
   ]
  },
  {
   "cell_type": "code",
   "execution_count": 74,
   "metadata": {},
   "outputs": [],
   "source": [
    "from heapq import nlargest\n",
    "select_length=int(len(sentence_tokens)*0.3)"
   ]
  },
  {
   "cell_type": "code",
   "execution_count": 75,
   "metadata": {},
   "outputs": [
    {
     "data": {
      "text/plain": [
       "1"
      ]
     },
     "execution_count": 75,
     "metadata": {},
     "output_type": "execute_result"
    }
   ],
   "source": [
    "select_length"
   ]
  },
  {
   "cell_type": "code",
   "execution_count": 76,
   "metadata": {},
   "outputs": [],
   "source": [
    "summary=nlargest(select_length,sentence_scores,key=sentence_scores.get)"
   ]
  },
  {
   "cell_type": "code",
   "execution_count": 77,
   "metadata": {},
   "outputs": [
    {
     "name": "stdout",
     "output_type": "stream",
     "text": [
      "[\"\"There are various sports and games which are played at both national and international level such as basket ball, football, tennis, cricket, volleyball, hockey, squash, badminton, table tennis, kabaddi, Polo and so many.]\n"
     ]
    }
   ],
   "source": [
    "print(summary)"
   ]
  },
  {
   "cell_type": "code",
   "execution_count": 78,
   "metadata": {},
   "outputs": [
    {
     "name": "stdout",
     "output_type": "stream",
     "text": [
      "\"\"There are various sports and games which are played at both national and international level such as basket ball, football, tennis, cricket, volleyball, hockey, squash, badminton, table tennis, kabaddi, Polo and so many. Though, some of the sports and games are played in many countries however they are unique, particular and famous especially for one country such as kabaddi, chess, and snooker were originated in India and played with much interest. Other famous games in India are badminton, hockey, football, etc. Cricket is also played by the players at national and international level with much interest but it does not have its origin in India. All the sports and games play an important role in the physical and mental development of the children.\n"
     ]
    }
   ],
   "source": [
    "print(text)"
   ]
  },
  {
   "cell_type": "code",
   "execution_count": 79,
   "metadata": {},
   "outputs": [
    {
     "name": "stdout",
     "output_type": "stream",
     "text": [
      "[\"\"There are various sports and games which are played at both national and international level such as basket ball, football, tennis, cricket, volleyball, hockey, squash, badminton, table tennis, kabaddi, Polo and so many.]\n"
     ]
    }
   ],
   "source": [
    "print(summary)"
   ]
  },
  {
   "cell_type": "code",
   "execution_count": null,
   "metadata": {},
   "outputs": [],
   "source": []
  },
  {
   "cell_type": "code",
   "execution_count": null,
   "metadata": {},
   "outputs": [],
   "source": []
  }
 ],
 "metadata": {
  "kernelspec": {
   "display_name": "Python 3",
   "language": "python",
   "name": "python3"
  },
  "language_info": {
   "codemirror_mode": {
    "name": "ipython",
    "version": 3
   },
   "file_extension": ".py",
   "mimetype": "text/x-python",
   "name": "python",
   "nbconvert_exporter": "python",
   "pygments_lexer": "ipython3",
   "version": "3.8.3"
  },
  "toc": {
   "base_numbering": 1,
   "nav_menu": {},
   "number_sections": true,
   "sideBar": true,
   "skip_h1_title": false,
   "title_cell": "Table of Contents",
   "title_sidebar": "Contents",
   "toc_cell": false,
   "toc_position": {},
   "toc_section_display": true,
   "toc_window_display": false
  }
 },
 "nbformat": 4,
 "nbformat_minor": 4
}
